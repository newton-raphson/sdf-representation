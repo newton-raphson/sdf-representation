{
 "cells": [
  {
   "cell_type": "code",
   "execution_count": 6,
   "metadata": {},
   "outputs": [],
   "source": [
    "import trimesh\n",
    "import numpy as np\n",
    "import os\n",
    "import sys\n",
    "import glob"
   ]
  },
  {
   "cell_type": "code",
   "execution_count": 7,
   "metadata": {},
   "outputs": [],
   "source": [
    "geometry_path=\"/work/mech-ai-scratch/samundra/study_points_proportion/david\""
   ]
  },
  {
   "cell_type": "code",
   "execution_count": 15,
   "metadata": {},
   "outputs": [
    {
     "name": "stdout",
     "output_type": "stream",
     "text": [
      "Number of files is 34\n"
     ]
    }
   ],
   "source": [
    "files = glob.glob(geometry_path+\"/*\")\n",
    "max_val=0\n",
    "min_val=0\n",
    "print(f\"Number of files is {len(files)}\")\n",
    "if os.path.exists(os.path.join(geometry_path,\"max_min.txt\")):\n",
    "    # read the max and min values from the file\n",
    "    with open(os.path.join(geometry_path,\"max_min.txt\"),\"r\") as f:\n",
    "        max_val = float(f.readline())\n",
    "        min_val = float(f.readline())\n",
    "else:\n",
    "    for file in files:\n",
    "        # get the .ply file inside it \n",
    "        ply_file = glob.glob(file+\"/*.ply\")\n",
    "        if len(ply_file) == 0:\n",
    "            continue\n",
    "        # for each ply file generate the signed distance data\n",
    "        for file in ply_file:\n",
    "            mesh = trimesh.load(file)\n",
    "            break\n",
    "        break\n",
    "# find the maximum and minimum value of the vertices\n",
    "\n",
    "# go inside the file \n",
    "for file in files:\n",
    "    # get the .ply file inside it \n",
    "    ply_file = glob.glob(file+\"/*.ply\")\n",
    "    if len(ply_file) == 0:\n",
    "        continue\n",
    "    # for each ply file generate the signed distance data\n",
    "    for file in ply_file:\n",
    "        mesh = trimesh.load(file)\n",
    "        if np.min(mesh.vertices) < min_val:\n",
    "            min_val = np.min(mesh.vertices)\n",
    "        if np.max(mesh.vertices) > max_val:\n",
    "            max_val = np.max(mesh.vertices)\n",
    "if not os.path.exists(os.path.join(geometry_path,\"max_min.txt\")):\n",
    "    with open(os.path.join(geometry_path,\"max_min.txt\"),\"w\") as f:\n",
    "        f.write(str(max_val)+\"\\n\")\n",
    "        f.write(str(min_val)+\"\\n\")"
   ]
  },
  {
   "cell_type": "code",
   "execution_count": 13,
   "metadata": {},
   "outputs": [
    {
     "data": {
      "text/plain": [
       "TrackedArray([[ 1230.63677457,  -422.38982332, -2799.73274745],\n",
       "              [ 1282.6935793 ,  -400.54598105, -2395.67015248],\n",
       "              [ 1142.78122309,  -220.03033624, -2799.35367111],\n",
       "              [ 1194.83802782,  -198.18649397, -2395.29107614],\n",
       "              [ 1256.6615798 ,  -411.0835765 , -2803.69683642],\n",
       "              [ 1308.71838453,  -389.23973423, -2399.63424145],\n",
       "              [ 1168.80602832,  -208.72408942, -2803.31776008],\n",
       "              [ 1220.86283305,  -186.88024715, -2399.25516511]])"
      ]
     },
     "execution_count": 13,
     "metadata": {},
     "output_type": "execute_result"
    }
   ],
   "source": [
    "mesh.bounding_box_oriented.vertices"
   ]
  },
  {
   "cell_type": "code",
   "execution_count": 14,
   "metadata": {},
   "outputs": [
    {
     "data": {
      "text/plain": [
       "-2800.75"
      ]
     },
     "execution_count": 14,
     "metadata": {},
     "output_type": "execute_result"
    }
   ],
   "source": [
    "np.min(mesh.vertices)"
   ]
  },
  {
   "cell_type": "code",
   "execution_count": null,
   "metadata": {},
   "outputs": [],
   "source": [
    "# now we need to experiment how to have suitable book keeping of the data\n"
   ]
  }
 ],
 "metadata": {
  "kernelspec": {
   "display_name": "firstenv",
   "language": "python",
   "name": "python3"
  },
  "language_info": {
   "codemirror_mode": {
    "name": "ipython",
    "version": 3
   },
   "file_extension": ".py",
   "mimetype": "text/x-python",
   "name": "python",
   "nbconvert_exporter": "python",
   "pygments_lexer": "ipython3",
   "version": "3.11.4"
  }
 },
 "nbformat": 4,
 "nbformat_minor": 2
}
